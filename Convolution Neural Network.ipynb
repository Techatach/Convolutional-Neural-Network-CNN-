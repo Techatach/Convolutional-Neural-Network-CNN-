{
 "cells": [
  {
   "cell_type": "code",
   "execution_count": null,
   "metadata": {},
   "outputs": [],
   "source": [
    "'''Trains a simple convnet on the MNIST dataset.\n",
    "\n",
    "Gets to 99.25% test accuracy after 12 epochs\n",
    "(there is still a lot of margin for parameter tuning).\n",
    "16 seconds per epoch on a GRID K520 GPU.\n",
    "'''\n",
    "## http://gg.gg/hxwqe\n",
    "\n",
    "from __future__ import print_function\n",
    "import keras\n",
    "from keras.datasets import mnist\n",
    "from keras.models import Sequential\n",
    "from keras.layers import Dense, Dropout, Flatten\n",
    "from keras.layers import Conv2D, MaxPooling2D\n",
    "from keras import backend as K"
   ]
  },
  {
   "cell_type": "code",
   "execution_count": 1,
   "metadata": {},
   "outputs": [
    {
     "name": "stderr",
     "output_type": "stream",
     "text": [
      "Using TensorFlow backend.\n"
     ]
    },
    {
     "name": "stdout",
     "output_type": "stream",
     "text": [
      "x_train shape: (60000, 28, 28, 1)\n",
      "60000 train samples\n",
      "10000 test samples\n",
      "Train on 60000 samples, validate on 10000 samples\n",
      "Epoch 1/12\n",
      "60000/60000 [==============================] - 90s 2ms/step - loss: 0.2688 - accuracy: 0.9173 - val_loss: 0.0560 - val_accuracy: 0.9827\n",
      "Epoch 2/12\n",
      "60000/60000 [==============================] - 89s 1ms/step - loss: 0.0863 - accuracy: 0.9741 - val_loss: 0.0397 - val_accuracy: 0.9868\n",
      "Epoch 3/12\n",
      "60000/60000 [==============================] - 92s 2ms/step - loss: 0.0649 - accuracy: 0.9809 - val_loss: 0.0349 - val_accuracy: 0.9879\n",
      "Epoch 4/12\n",
      "60000/60000 [==============================] - 93s 2ms/step - loss: 0.0531 - accuracy: 0.9840 - val_loss: 0.0318 - val_accuracy: 0.9885\n",
      "Epoch 5/12\n",
      "60000/60000 [==============================] - 92s 2ms/step - loss: 0.0469 - accuracy: 0.9862 - val_loss: 0.0297 - val_accuracy: 0.9899\n",
      "Epoch 6/12\n",
      "60000/60000 [==============================] - 93s 2ms/step - loss: 0.0382 - accuracy: 0.9880 - val_loss: 0.0332 - val_accuracy: 0.9896\n",
      "Epoch 7/12\n",
      "60000/60000 [==============================] - 93s 2ms/step - loss: 0.0374 - accuracy: 0.9886 - val_loss: 0.0292 - val_accuracy: 0.9913\n",
      "Epoch 8/12\n",
      "60000/60000 [==============================] - 94s 2ms/step - loss: 0.0328 - accuracy: 0.9896 - val_loss: 0.0260 - val_accuracy: 0.9924\n",
      "Epoch 9/12\n",
      "60000/60000 [==============================] - 93s 2ms/step - loss: 0.0295 - accuracy: 0.9904 - val_loss: 0.0307 - val_accuracy: 0.9898\n",
      "Epoch 10/12\n",
      "60000/60000 [==============================] - 94s 2ms/step - loss: 0.0295 - accuracy: 0.9909 - val_loss: 0.0276 - val_accuracy: 0.9916\n",
      "Epoch 11/12\n",
      "60000/60000 [==============================] - 95s 2ms/step - loss: 0.0262 - accuracy: 0.9919 - val_loss: 0.0279 - val_accuracy: 0.9917\n",
      "Epoch 12/12\n",
      "60000/60000 [==============================] - 94s 2ms/step - loss: 0.0251 - accuracy: 0.9922 - val_loss: 0.0253 - val_accuracy: 0.9922\n",
      "Test loss: 0.025250645969734434\n",
      "Test accuracy: 0.9922000169754028\n"
     ]
    }
   ],
   "source": [
    "batch_size = 128\n",
    "num_classes = 10\n",
    "epochs = 12\n",
    "\n",
    "# input image dimensions\n",
    "img_rows, img_cols = 28, 28\n",
    "\n",
    "# the data, shuffled and split between train and test sets\n",
    "(x_train, y_train), (x_test, y_test) = mnist.load_data()\n",
    "\n",
    "if K.image_data_format() == 'channels_first':\n",
    "    x_train = x_train.reshape(x_train.shape[0], 1, img_rows, img_cols)\n",
    "    x_test = x_test.reshape(x_test.shape[0], 1, img_rows, img_cols)\n",
    "    input_shape = (1, img_rows, img_cols)\n",
    "else:\n",
    "    x_train = x_train.reshape(x_train.shape[0], img_rows, img_cols, 1)\n",
    "    x_test = x_test.reshape(x_test.shape[0], img_rows, img_cols, 1)\n",
    "    input_shape = (img_rows, img_cols, 1)\n",
    "\n",
    "x_train = x_train.astype('float32')\n",
    "x_test = x_test.astype('float32')\n",
    "x_train /= 255\n",
    "x_test /= 255\n",
    "print('x_train shape:', x_train.shape)\n",
    "print(x_train.shape[0], 'train samples')\n",
    "print(x_test.shape[0], 'test samples')\n",
    "\n",
    "# convert class vectors to binary class matrices\n",
    "y_train = keras.utils.to_categorical(y_train, num_classes)\n",
    "y_test = keras.utils.to_categorical(y_test, num_classes)\n",
    "\n",
    "model = Sequential()\n",
    "model.add(Conv2D(32, kernel_size=(3, 3),\n",
    "                 activation='relu',\n",
    "                 input_shape=input_shape))\n",
    "model.add(Conv2D(64, (3, 3), activation='relu'))\n",
    "model.add(MaxPooling2D(pool_size=(2, 2)))\n",
    "model.add(Dropout(0.25))\n",
    "model.add(Flatten())\n",
    "model.add(Dense(128, activation='relu'))\n",
    "model.add(Dropout(0.5))\n",
    "model.add(Dense(num_classes, activation='softmax'))\n",
    "model.summary()\n",
    "\n",
    "model.compile(loss=keras.losses.categorical_crossentropy,\n",
    "              optimizer=keras.optimizers.Adadelta(),\n",
    "              metrics=['accuracy'])\n",
    "\n",
    "model.fit(x_train, y_train,\n",
    "          batch_size=batch_size,\n",
    "          epochs=epochs,\n",
    "          verbose=1,\n",
    "          validation_data=(x_test, y_test))\n",
    "score = model.evaluate(x_test, y_test, verbose=0)\n",
    "print('Test loss:', score[0])\n",
    "print('Test accuracy:', score[1])"
   ]
  },
  {
   "cell_type": "code",
   "execution_count": null,
   "metadata": {},
   "outputs": [],
   "source": []
  }
 ],
 "metadata": {
  "kernelspec": {
   "display_name": "Python 3",
   "language": "python",
   "name": "python3"
  },
  "language_info": {
   "codemirror_mode": {
    "name": "ipython",
    "version": 3
   },
   "file_extension": ".py",
   "mimetype": "text/x-python",
   "name": "python",
   "nbconvert_exporter": "python",
   "pygments_lexer": "ipython3",
   "version": "3.7.6"
  }
 },
 "nbformat": 4,
 "nbformat_minor": 4
}
